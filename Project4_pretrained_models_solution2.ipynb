{
  "nbformat": 4,
  "nbformat_minor": 0,
  "metadata": {
    "colab": {
      "provenance": [],
      "gpuType": "T4",
      "include_colab_link": true
    },
    "kernelspec": {
      "name": "python3",
      "display_name": "Python 3"
    },
    "language_info": {
      "name": "python"
    },
    "accelerator": "GPU",
    "widgets": {
      "application/vnd.jupyter.widget-state+json": {
        "599ecab79701440e8203023fd5d5f27d": {
          "model_module": "@jupyter-widgets/controls",
          "model_name": "HBoxModel",
          "model_module_version": "1.5.0",
          "state": {
            "_dom_classes": [],
            "_model_module": "@jupyter-widgets/controls",
            "_model_module_version": "1.5.0",
            "_model_name": "HBoxModel",
            "_view_count": null,
            "_view_module": "@jupyter-widgets/controls",
            "_view_module_version": "1.5.0",
            "_view_name": "HBoxView",
            "box_style": "",
            "children": [
              "IPY_MODEL_f0d57cbadcfe4d128949199804645e60",
              "IPY_MODEL_5915b2f29e6d4c50b4d449972e06719f",
              "IPY_MODEL_d438a68e7fbb4422abf13a59e2150cc7"
            ],
            "layout": "IPY_MODEL_f8d0002a8d704b93aea0172812c732bd"
          }
        },
        "f0d57cbadcfe4d128949199804645e60": {
          "model_module": "@jupyter-widgets/controls",
          "model_name": "HTMLModel",
          "model_module_version": "1.5.0",
          "state": {
            "_dom_classes": [],
            "_model_module": "@jupyter-widgets/controls",
            "_model_module_version": "1.5.0",
            "_model_name": "HTMLModel",
            "_view_count": null,
            "_view_module": "@jupyter-widgets/controls",
            "_view_module_version": "1.5.0",
            "_view_name": "HTMLView",
            "description": "",
            "description_tooltip": null,
            "layout": "IPY_MODEL_69ce28a569ce4aa883261954981b2801",
            "placeholder": "​",
            "style": "IPY_MODEL_0183880aa5324117a530dda984aed07f",
            "value": "100%"
          }
        },
        "5915b2f29e6d4c50b4d449972e06719f": {
          "model_module": "@jupyter-widgets/controls",
          "model_name": "FloatProgressModel",
          "model_module_version": "1.5.0",
          "state": {
            "_dom_classes": [],
            "_model_module": "@jupyter-widgets/controls",
            "_model_module_version": "1.5.0",
            "_model_name": "FloatProgressModel",
            "_view_count": null,
            "_view_module": "@jupyter-widgets/controls",
            "_view_module_version": "1.5.0",
            "_view_name": "ProgressView",
            "bar_style": "success",
            "description": "",
            "description_tooltip": null,
            "layout": "IPY_MODEL_8219171eaff0442bb19fde25f7b2ff2a",
            "max": 597,
            "min": 0,
            "orientation": "horizontal",
            "style": "IPY_MODEL_0670304e00b84dcea4cfdc87b038ba46",
            "value": 597
          }
        },
        "d438a68e7fbb4422abf13a59e2150cc7": {
          "model_module": "@jupyter-widgets/controls",
          "model_name": "HTMLModel",
          "model_module_version": "1.5.0",
          "state": {
            "_dom_classes": [],
            "_model_module": "@jupyter-widgets/controls",
            "_model_module_version": "1.5.0",
            "_model_name": "HTMLModel",
            "_view_count": null,
            "_view_module": "@jupyter-widgets/controls",
            "_view_module_version": "1.5.0",
            "_view_name": "HTMLView",
            "description": "",
            "description_tooltip": null,
            "layout": "IPY_MODEL_0b393e3745d54815a61cb4185b2a9100",
            "placeholder": "​",
            "style": "IPY_MODEL_59d040d6055b49929e376544b6381664",
            "value": " 597/597 [00:38&lt;00:00, 17.06it/s]"
          }
        },
        "f8d0002a8d704b93aea0172812c732bd": {
          "model_module": "@jupyter-widgets/base",
          "model_name": "LayoutModel",
          "model_module_version": "1.2.0",
          "state": {
            "_model_module": "@jupyter-widgets/base",
            "_model_module_version": "1.2.0",
            "_model_name": "LayoutModel",
            "_view_count": null,
            "_view_module": "@jupyter-widgets/base",
            "_view_module_version": "1.2.0",
            "_view_name": "LayoutView",
            "align_content": null,
            "align_items": null,
            "align_self": null,
            "border": null,
            "bottom": null,
            "display": null,
            "flex": null,
            "flex_flow": null,
            "grid_area": null,
            "grid_auto_columns": null,
            "grid_auto_flow": null,
            "grid_auto_rows": null,
            "grid_column": null,
            "grid_gap": null,
            "grid_row": null,
            "grid_template_areas": null,
            "grid_template_columns": null,
            "grid_template_rows": null,
            "height": null,
            "justify_content": null,
            "justify_items": null,
            "left": null,
            "margin": null,
            "max_height": null,
            "max_width": null,
            "min_height": null,
            "min_width": null,
            "object_fit": null,
            "object_position": null,
            "order": null,
            "overflow": null,
            "overflow_x": null,
            "overflow_y": null,
            "padding": null,
            "right": null,
            "top": null,
            "visibility": null,
            "width": null
          }
        },
        "69ce28a569ce4aa883261954981b2801": {
          "model_module": "@jupyter-widgets/base",
          "model_name": "LayoutModel",
          "model_module_version": "1.2.0",
          "state": {
            "_model_module": "@jupyter-widgets/base",
            "_model_module_version": "1.2.0",
            "_model_name": "LayoutModel",
            "_view_count": null,
            "_view_module": "@jupyter-widgets/base",
            "_view_module_version": "1.2.0",
            "_view_name": "LayoutView",
            "align_content": null,
            "align_items": null,
            "align_self": null,
            "border": null,
            "bottom": null,
            "display": null,
            "flex": null,
            "flex_flow": null,
            "grid_area": null,
            "grid_auto_columns": null,
            "grid_auto_flow": null,
            "grid_auto_rows": null,
            "grid_column": null,
            "grid_gap": null,
            "grid_row": null,
            "grid_template_areas": null,
            "grid_template_columns": null,
            "grid_template_rows": null,
            "height": null,
            "justify_content": null,
            "justify_items": null,
            "left": null,
            "margin": null,
            "max_height": null,
            "max_width": null,
            "min_height": null,
            "min_width": null,
            "object_fit": null,
            "object_position": null,
            "order": null,
            "overflow": null,
            "overflow_x": null,
            "overflow_y": null,
            "padding": null,
            "right": null,
            "top": null,
            "visibility": null,
            "width": null
          }
        },
        "0183880aa5324117a530dda984aed07f": {
          "model_module": "@jupyter-widgets/controls",
          "model_name": "DescriptionStyleModel",
          "model_module_version": "1.5.0",
          "state": {
            "_model_module": "@jupyter-widgets/controls",
            "_model_module_version": "1.5.0",
            "_model_name": "DescriptionStyleModel",
            "_view_count": null,
            "_view_module": "@jupyter-widgets/base",
            "_view_module_version": "1.2.0",
            "_view_name": "StyleView",
            "description_width": ""
          }
        },
        "8219171eaff0442bb19fde25f7b2ff2a": {
          "model_module": "@jupyter-widgets/base",
          "model_name": "LayoutModel",
          "model_module_version": "1.2.0",
          "state": {
            "_model_module": "@jupyter-widgets/base",
            "_model_module_version": "1.2.0",
            "_model_name": "LayoutModel",
            "_view_count": null,
            "_view_module": "@jupyter-widgets/base",
            "_view_module_version": "1.2.0",
            "_view_name": "LayoutView",
            "align_content": null,
            "align_items": null,
            "align_self": null,
            "border": null,
            "bottom": null,
            "display": null,
            "flex": null,
            "flex_flow": null,
            "grid_area": null,
            "grid_auto_columns": null,
            "grid_auto_flow": null,
            "grid_auto_rows": null,
            "grid_column": null,
            "grid_gap": null,
            "grid_row": null,
            "grid_template_areas": null,
            "grid_template_columns": null,
            "grid_template_rows": null,
            "height": null,
            "justify_content": null,
            "justify_items": null,
            "left": null,
            "margin": null,
            "max_height": null,
            "max_width": null,
            "min_height": null,
            "min_width": null,
            "object_fit": null,
            "object_position": null,
            "order": null,
            "overflow": null,
            "overflow_x": null,
            "overflow_y": null,
            "padding": null,
            "right": null,
            "top": null,
            "visibility": null,
            "width": null
          }
        },
        "0670304e00b84dcea4cfdc87b038ba46": {
          "model_module": "@jupyter-widgets/controls",
          "model_name": "ProgressStyleModel",
          "model_module_version": "1.5.0",
          "state": {
            "_model_module": "@jupyter-widgets/controls",
            "_model_module_version": "1.5.0",
            "_model_name": "ProgressStyleModel",
            "_view_count": null,
            "_view_module": "@jupyter-widgets/base",
            "_view_module_version": "1.2.0",
            "_view_name": "StyleView",
            "bar_color": null,
            "description_width": ""
          }
        },
        "0b393e3745d54815a61cb4185b2a9100": {
          "model_module": "@jupyter-widgets/base",
          "model_name": "LayoutModel",
          "model_module_version": "1.2.0",
          "state": {
            "_model_module": "@jupyter-widgets/base",
            "_model_module_version": "1.2.0",
            "_model_name": "LayoutModel",
            "_view_count": null,
            "_view_module": "@jupyter-widgets/base",
            "_view_module_version": "1.2.0",
            "_view_name": "LayoutView",
            "align_content": null,
            "align_items": null,
            "align_self": null,
            "border": null,
            "bottom": null,
            "display": null,
            "flex": null,
            "flex_flow": null,
            "grid_area": null,
            "grid_auto_columns": null,
            "grid_auto_flow": null,
            "grid_auto_rows": null,
            "grid_column": null,
            "grid_gap": null,
            "grid_row": null,
            "grid_template_areas": null,
            "grid_template_columns": null,
            "grid_template_rows": null,
            "height": null,
            "justify_content": null,
            "justify_items": null,
            "left": null,
            "margin": null,
            "max_height": null,
            "max_width": null,
            "min_height": null,
            "min_width": null,
            "object_fit": null,
            "object_position": null,
            "order": null,
            "overflow": null,
            "overflow_x": null,
            "overflow_y": null,
            "padding": null,
            "right": null,
            "top": null,
            "visibility": null,
            "width": null
          }
        },
        "59d040d6055b49929e376544b6381664": {
          "model_module": "@jupyter-widgets/controls",
          "model_name": "DescriptionStyleModel",
          "model_module_version": "1.5.0",
          "state": {
            "_model_module": "@jupyter-widgets/controls",
            "_model_module_version": "1.5.0",
            "_model_name": "DescriptionStyleModel",
            "_view_count": null,
            "_view_module": "@jupyter-widgets/base",
            "_view_module_version": "1.2.0",
            "_view_name": "StyleView",
            "description_width": ""
          }
        },
        "87623a490f39433d991a210118ce7591": {
          "model_module": "@jupyter-widgets/controls",
          "model_name": "HBoxModel",
          "model_module_version": "1.5.0",
          "state": {
            "_dom_classes": [],
            "_model_module": "@jupyter-widgets/controls",
            "_model_module_version": "1.5.0",
            "_model_name": "HBoxModel",
            "_view_count": null,
            "_view_module": "@jupyter-widgets/controls",
            "_view_module_version": "1.5.0",
            "_view_name": "HBoxView",
            "box_style": "",
            "children": [
              "IPY_MODEL_1803fd274d8841d890ef59546a18020b",
              "IPY_MODEL_86a2b1fbc3f147afb01275c8bf07dcd6",
              "IPY_MODEL_96c179592b9644f3b1c2aa95e63a4117"
            ],
            "layout": "IPY_MODEL_0a1b2e1c26974c3ebbbce7f98acd1737"
          }
        },
        "1803fd274d8841d890ef59546a18020b": {
          "model_module": "@jupyter-widgets/controls",
          "model_name": "HTMLModel",
          "model_module_version": "1.5.0",
          "state": {
            "_dom_classes": [],
            "_model_module": "@jupyter-widgets/controls",
            "_model_module_version": "1.5.0",
            "_model_name": "HTMLModel",
            "_view_count": null,
            "_view_module": "@jupyter-widgets/controls",
            "_view_module_version": "1.5.0",
            "_view_name": "HTMLView",
            "description": "",
            "description_tooltip": null,
            "layout": "IPY_MODEL_7a37583546bb4a779898bc919c9c4caf",
            "placeholder": "​",
            "style": "IPY_MODEL_4c33aae6355c4a54a7ddc6bd2b199614",
            "value": "100%"
          }
        },
        "86a2b1fbc3f147afb01275c8bf07dcd6": {
          "model_module": "@jupyter-widgets/controls",
          "model_name": "FloatProgressModel",
          "model_module_version": "1.5.0",
          "state": {
            "_dom_classes": [],
            "_model_module": "@jupyter-widgets/controls",
            "_model_module_version": "1.5.0",
            "_model_name": "FloatProgressModel",
            "_view_count": null,
            "_view_module": "@jupyter-widgets/controls",
            "_view_module_version": "1.5.0",
            "_view_name": "ProgressView",
            "bar_style": "success",
            "description": "",
            "description_tooltip": null,
            "layout": "IPY_MODEL_4ef70827d81b4c138a3ddccb6bcc63b6",
            "max": 597,
            "min": 0,
            "orientation": "horizontal",
            "style": "IPY_MODEL_52c6a4b2b6024c0ca07fe68a917629bd",
            "value": 597
          }
        },
        "96c179592b9644f3b1c2aa95e63a4117": {
          "model_module": "@jupyter-widgets/controls",
          "model_name": "HTMLModel",
          "model_module_version": "1.5.0",
          "state": {
            "_dom_classes": [],
            "_model_module": "@jupyter-widgets/controls",
            "_model_module_version": "1.5.0",
            "_model_name": "HTMLModel",
            "_view_count": null,
            "_view_module": "@jupyter-widgets/controls",
            "_view_module_version": "1.5.0",
            "_view_name": "HTMLView",
            "description": "",
            "description_tooltip": null,
            "layout": "IPY_MODEL_7f82b731cc6a48b3add1cc9a0d7916cb",
            "placeholder": "​",
            "style": "IPY_MODEL_fcbca3081f6c48929468c2cc39294c94",
            "value": " 597/597 [00:37&lt;00:00, 27.60it/s]"
          }
        },
        "0a1b2e1c26974c3ebbbce7f98acd1737": {
          "model_module": "@jupyter-widgets/base",
          "model_name": "LayoutModel",
          "model_module_version": "1.2.0",
          "state": {
            "_model_module": "@jupyter-widgets/base",
            "_model_module_version": "1.2.0",
            "_model_name": "LayoutModel",
            "_view_count": null,
            "_view_module": "@jupyter-widgets/base",
            "_view_module_version": "1.2.0",
            "_view_name": "LayoutView",
            "align_content": null,
            "align_items": null,
            "align_self": null,
            "border": null,
            "bottom": null,
            "display": null,
            "flex": null,
            "flex_flow": null,
            "grid_area": null,
            "grid_auto_columns": null,
            "grid_auto_flow": null,
            "grid_auto_rows": null,
            "grid_column": null,
            "grid_gap": null,
            "grid_row": null,
            "grid_template_areas": null,
            "grid_template_columns": null,
            "grid_template_rows": null,
            "height": null,
            "justify_content": null,
            "justify_items": null,
            "left": null,
            "margin": null,
            "max_height": null,
            "max_width": null,
            "min_height": null,
            "min_width": null,
            "object_fit": null,
            "object_position": null,
            "order": null,
            "overflow": null,
            "overflow_x": null,
            "overflow_y": null,
            "padding": null,
            "right": null,
            "top": null,
            "visibility": null,
            "width": null
          }
        },
        "7a37583546bb4a779898bc919c9c4caf": {
          "model_module": "@jupyter-widgets/base",
          "model_name": "LayoutModel",
          "model_module_version": "1.2.0",
          "state": {
            "_model_module": "@jupyter-widgets/base",
            "_model_module_version": "1.2.0",
            "_model_name": "LayoutModel",
            "_view_count": null,
            "_view_module": "@jupyter-widgets/base",
            "_view_module_version": "1.2.0",
            "_view_name": "LayoutView",
            "align_content": null,
            "align_items": null,
            "align_self": null,
            "border": null,
            "bottom": null,
            "display": null,
            "flex": null,
            "flex_flow": null,
            "grid_area": null,
            "grid_auto_columns": null,
            "grid_auto_flow": null,
            "grid_auto_rows": null,
            "grid_column": null,
            "grid_gap": null,
            "grid_row": null,
            "grid_template_areas": null,
            "grid_template_columns": null,
            "grid_template_rows": null,
            "height": null,
            "justify_content": null,
            "justify_items": null,
            "left": null,
            "margin": null,
            "max_height": null,
            "max_width": null,
            "min_height": null,
            "min_width": null,
            "object_fit": null,
            "object_position": null,
            "order": null,
            "overflow": null,
            "overflow_x": null,
            "overflow_y": null,
            "padding": null,
            "right": null,
            "top": null,
            "visibility": null,
            "width": null
          }
        },
        "4c33aae6355c4a54a7ddc6bd2b199614": {
          "model_module": "@jupyter-widgets/controls",
          "model_name": "DescriptionStyleModel",
          "model_module_version": "1.5.0",
          "state": {
            "_model_module": "@jupyter-widgets/controls",
            "_model_module_version": "1.5.0",
            "_model_name": "DescriptionStyleModel",
            "_view_count": null,
            "_view_module": "@jupyter-widgets/base",
            "_view_module_version": "1.2.0",
            "_view_name": "StyleView",
            "description_width": ""
          }
        },
        "4ef70827d81b4c138a3ddccb6bcc63b6": {
          "model_module": "@jupyter-widgets/base",
          "model_name": "LayoutModel",
          "model_module_version": "1.2.0",
          "state": {
            "_model_module": "@jupyter-widgets/base",
            "_model_module_version": "1.2.0",
            "_model_name": "LayoutModel",
            "_view_count": null,
            "_view_module": "@jupyter-widgets/base",
            "_view_module_version": "1.2.0",
            "_view_name": "LayoutView",
            "align_content": null,
            "align_items": null,
            "align_self": null,
            "border": null,
            "bottom": null,
            "display": null,
            "flex": null,
            "flex_flow": null,
            "grid_area": null,
            "grid_auto_columns": null,
            "grid_auto_flow": null,
            "grid_auto_rows": null,
            "grid_column": null,
            "grid_gap": null,
            "grid_row": null,
            "grid_template_areas": null,
            "grid_template_columns": null,
            "grid_template_rows": null,
            "height": null,
            "justify_content": null,
            "justify_items": null,
            "left": null,
            "margin": null,
            "max_height": null,
            "max_width": null,
            "min_height": null,
            "min_width": null,
            "object_fit": null,
            "object_position": null,
            "order": null,
            "overflow": null,
            "overflow_x": null,
            "overflow_y": null,
            "padding": null,
            "right": null,
            "top": null,
            "visibility": null,
            "width": null
          }
        },
        "52c6a4b2b6024c0ca07fe68a917629bd": {
          "model_module": "@jupyter-widgets/controls",
          "model_name": "ProgressStyleModel",
          "model_module_version": "1.5.0",
          "state": {
            "_model_module": "@jupyter-widgets/controls",
            "_model_module_version": "1.5.0",
            "_model_name": "ProgressStyleModel",
            "_view_count": null,
            "_view_module": "@jupyter-widgets/base",
            "_view_module_version": "1.2.0",
            "_view_name": "StyleView",
            "bar_color": null,
            "description_width": ""
          }
        },
        "7f82b731cc6a48b3add1cc9a0d7916cb": {
          "model_module": "@jupyter-widgets/base",
          "model_name": "LayoutModel",
          "model_module_version": "1.2.0",
          "state": {
            "_model_module": "@jupyter-widgets/base",
            "_model_module_version": "1.2.0",
            "_model_name": "LayoutModel",
            "_view_count": null,
            "_view_module": "@jupyter-widgets/base",
            "_view_module_version": "1.2.0",
            "_view_name": "LayoutView",
            "align_content": null,
            "align_items": null,
            "align_self": null,
            "border": null,
            "bottom": null,
            "display": null,
            "flex": null,
            "flex_flow": null,
            "grid_area": null,
            "grid_auto_columns": null,
            "grid_auto_flow": null,
            "grid_auto_rows": null,
            "grid_column": null,
            "grid_gap": null,
            "grid_row": null,
            "grid_template_areas": null,
            "grid_template_columns": null,
            "grid_template_rows": null,
            "height": null,
            "justify_content": null,
            "justify_items": null,
            "left": null,
            "margin": null,
            "max_height": null,
            "max_width": null,
            "min_height": null,
            "min_width": null,
            "object_fit": null,
            "object_position": null,
            "order": null,
            "overflow": null,
            "overflow_x": null,
            "overflow_y": null,
            "padding": null,
            "right": null,
            "top": null,
            "visibility": null,
            "width": null
          }
        },
        "fcbca3081f6c48929468c2cc39294c94": {
          "model_module": "@jupyter-widgets/controls",
          "model_name": "DescriptionStyleModel",
          "model_module_version": "1.5.0",
          "state": {
            "_model_module": "@jupyter-widgets/controls",
            "_model_module_version": "1.5.0",
            "_model_name": "DescriptionStyleModel",
            "_view_count": null,
            "_view_module": "@jupyter-widgets/base",
            "_view_module_version": "1.2.0",
            "_view_name": "StyleView",
            "description_width": ""
          }
        }
      }
    }
  },
  "cells": [
    {
      "cell_type": "markdown",
      "metadata": {
        "id": "view-in-github",
        "colab_type": "text"
      },
      "source": [
        "<a href=\"https://colab.research.google.com/github/Soomro2023/Project4_CF23Qz0PfJlIm5KH/blob/main/Project4_pretrained_models_solution2.ipynb\" target=\"_parent\"><img src=\"https://colab.research.google.com/assets/colab-badge.svg\" alt=\"Open In Colab\"/></a>"
      ]
    },
    {
      "cell_type": "code",
      "source": [
        "!pip install torchsummary"
      ],
      "metadata": {
        "id": "ZCan8PVs8lBp",
        "colab": {
          "base_uri": "https://localhost:8080/"
        },
        "outputId": "03eaa979-b5e2-4026-b78d-62a940677f23"
      },
      "execution_count": 1,
      "outputs": [
        {
          "output_type": "stream",
          "name": "stdout",
          "text": [
            "Requirement already satisfied: torchsummary in /usr/local/lib/python3.10/dist-packages (1.5.1)\n"
          ]
        }
      ]
    },
    {
      "cell_type": "code",
      "source": [
        "!pip install torchmetrics"
      ],
      "metadata": {
        "colab": {
          "base_uri": "https://localhost:8080/"
        },
        "id": "zth-9jv1rbBY",
        "outputId": "cbf31fb3-3069-4963-9b50-6d9fdf530c98"
      },
      "execution_count": 2,
      "outputs": [
        {
          "output_type": "stream",
          "name": "stdout",
          "text": [
            "Collecting torchmetrics\n",
            "  Downloading torchmetrics-1.0.1-py3-none-any.whl (729 kB)\n",
            "\u001b[2K     \u001b[90m━━━━━━━━━━━━━━━━━━━━━━━━━━━━━━━━━━━━━━━\u001b[0m \u001b[32m729.2/729.2 kB\u001b[0m \u001b[31m5.5 MB/s\u001b[0m eta \u001b[36m0:00:00\u001b[0m\n",
            "\u001b[?25hRequirement already satisfied: numpy>1.20.0 in /usr/local/lib/python3.10/dist-packages (from torchmetrics) (1.22.4)\n",
            "Requirement already satisfied: torch>=1.8.1 in /usr/local/lib/python3.10/dist-packages (from torchmetrics) (2.0.1+cu118)\n",
            "Requirement already satisfied: packaging in /usr/local/lib/python3.10/dist-packages (from torchmetrics) (23.1)\n",
            "Collecting lightning-utilities>=0.7.0 (from torchmetrics)\n",
            "  Downloading lightning_utilities-0.9.0-py3-none-any.whl (23 kB)\n",
            "Requirement already satisfied: typing-extensions in /usr/local/lib/python3.10/dist-packages (from lightning-utilities>=0.7.0->torchmetrics) (4.7.1)\n",
            "Requirement already satisfied: filelock in /usr/local/lib/python3.10/dist-packages (from torch>=1.8.1->torchmetrics) (3.12.2)\n",
            "Requirement already satisfied: sympy in /usr/local/lib/python3.10/dist-packages (from torch>=1.8.1->torchmetrics) (1.11.1)\n",
            "Requirement already satisfied: networkx in /usr/local/lib/python3.10/dist-packages (from torch>=1.8.1->torchmetrics) (3.1)\n",
            "Requirement already satisfied: jinja2 in /usr/local/lib/python3.10/dist-packages (from torch>=1.8.1->torchmetrics) (3.1.2)\n",
            "Requirement already satisfied: triton==2.0.0 in /usr/local/lib/python3.10/dist-packages (from torch>=1.8.1->torchmetrics) (2.0.0)\n",
            "Requirement already satisfied: cmake in /usr/local/lib/python3.10/dist-packages (from triton==2.0.0->torch>=1.8.1->torchmetrics) (3.25.2)\n",
            "Requirement already satisfied: lit in /usr/local/lib/python3.10/dist-packages (from triton==2.0.0->torch>=1.8.1->torchmetrics) (16.0.6)\n",
            "Requirement already satisfied: MarkupSafe>=2.0 in /usr/local/lib/python3.10/dist-packages (from jinja2->torch>=1.8.1->torchmetrics) (2.1.3)\n",
            "Requirement already satisfied: mpmath>=0.19 in /usr/local/lib/python3.10/dist-packages (from sympy->torch>=1.8.1->torchmetrics) (1.3.0)\n",
            "Installing collected packages: lightning-utilities, torchmetrics\n",
            "Successfully installed lightning-utilities-0.9.0 torchmetrics-1.0.1\n"
          ]
        }
      ]
    },
    {
      "cell_type": "code",
      "execution_count": 3,
      "metadata": {
        "id": "1BkAGhYU7Ua-",
        "colab": {
          "base_uri": "https://localhost:8080/"
        },
        "outputId": "41d42234-05ba-4fe0-d945-3ede386821e8"
      },
      "outputs": [
        {
          "output_type": "execute_result",
          "data": {
            "text/plain": [
              "<contextlib.ExitStack at 0x7bec41e165f0>"
            ]
          },
          "metadata": {},
          "execution_count": 3
        }
      ],
      "source": [
        "from __future__ import print_function, division\n",
        "import warnings\n",
        "warnings.filterwarnings('ignore')\n",
        "\n",
        "import os\n",
        "import time\n",
        "import copy\n",
        "\n",
        "import pandas as pd\n",
        "from PIL import Image                             # Python Imaging Library (PIL)\n",
        "import numpy as np\n",
        "from tqdm.notebook import tqdm                    # tqdm - Taqadum (arabic) mean \"progress\" - to create smart progress bar for the loop\n",
        "\n",
        "from sklearn.metrics import classification_report, confusion_matrix\n",
        "from sklearn.metrics import f1_score\n",
        "import matplotlib.pyplot as plt\n",
        "import seaborn as sns\n",
        "\n",
        "'''import pytoch dependencies'''\n",
        "\n",
        "from torchsummary import  summary\n",
        "import torch\n",
        "import torchvision\n",
        "import torch.nn as nn\n",
        "import torch.optim as optim\n",
        "import torch.nn.functional as F\n",
        "from torchvision import *\n",
        "from torch.utils.data import Dataset, DataLoader, SubsetRandomSampler\n",
        "from torch.optim import lr_scheduler\n",
        "import torch.backends.cudnn as cudnn\n",
        "from torchvision import datasets\n",
        "from torchmetrics.classification import BinaryF1Score\n",
        "\n",
        "cudnn.benchmark = True\n",
        "plt.ion()   # interactive mode"
      ]
    },
    {
      "cell_type": "code",
      "source": [
        "# Set the random seed for both numpy and pytorch for the getting the same results instead of random\n",
        "np.random.seed(0)\n",
        "torch.manual_seed(0)"
      ],
      "metadata": {
        "id": "JVuHBCcmBD-D",
        "colab": {
          "base_uri": "https://localhost:8080/"
        },
        "outputId": "342e7b38-6ef2-4e24-eea5-d69dcdd1b5b7"
      },
      "execution_count": 4,
      "outputs": [
        {
          "output_type": "execute_result",
          "data": {
            "text/plain": [
              "<torch._C.Generator at 0x7bebe11663f0>"
            ]
          },
          "metadata": {},
          "execution_count": 4
        }
      ]
    },
    {
      "cell_type": "code",
      "source": [
        "#Check if the cuda is available otherwise the CPU\n",
        "device = torch.device(\"cuda\" if torch.cuda.is_available() else \"cpu\")\n",
        "print(device,\"is available\")"
      ],
      "metadata": {
        "id": "31CgbDtUBEvv",
        "colab": {
          "base_uri": "https://localhost:8080/"
        },
        "outputId": "23f9da4c-af52-482c-9d4f-bb7493a76ec2"
      },
      "execution_count": 5,
      "outputs": [
        {
          "output_type": "stream",
          "name": "stdout",
          "text": [
            "cuda is available\n"
          ]
        }
      ]
    },
    {
      "cell_type": "code",
      "source": [
        "from google.colab import drive\n",
        "drive.mount('/content/drive/')"
      ],
      "metadata": {
        "id": "n5JS7NmK72Ld",
        "colab": {
          "base_uri": "https://localhost:8080/"
        },
        "outputId": "7161633a-c8e0-4a4c-bbde-ba7078f38404"
      },
      "execution_count": 6,
      "outputs": [
        {
          "output_type": "stream",
          "name": "stdout",
          "text": [
            "Mounted at /content/drive/\n"
          ]
        }
      ]
    },
    {
      "cell_type": "code",
      "source": [
        "data_dir = \"/content/drive/MyDrive/images/\""
      ],
      "metadata": {
        "id": "e2r5i7Rs8BAJ"
      },
      "execution_count": 7,
      "outputs": []
    },
    {
      "cell_type": "markdown",
      "source": [
        "# Resnet"
      ],
      "metadata": {
        "id": "vgxW8OVy7vZ3"
      }
    },
    {
      "cell_type": "code",
      "source": [
        "#Resnet transformer\n",
        "Resnet_transforms = {\n",
        "    'training': transforms.Compose([\n",
        "        transforms.CenterCrop(1080),\n",
        "        transforms.RandomResizedCrop(224),\n",
        "        transforms.RandomHorizontalFlip(),\n",
        "        transforms.ToTensor(),\n",
        "        transforms.Normalize([0.485, 0.456, 0.406], [0.229, 0.224, 0.225])\n",
        "    ]),\n",
        "    'valid': transforms.Compose([\n",
        "        transforms.Resize(256),\n",
        "        transforms.CenterCrop(224),\n",
        "        transforms.ToTensor(),\n",
        "        transforms.Normalize([0.485, 0.456, 0.406], [0.229, 0.224, 0.225])\n",
        "    ]),\n",
        "}"
      ],
      "metadata": {
        "id": "P8AX0-ax7xiQ"
      },
      "execution_count": 8,
      "outputs": []
    },
    {
      "cell_type": "code",
      "source": [
        "# For Resnet\n",
        "Resnet_datasets = {x: datasets.ImageFolder(os.path.join(data_dir, x),\n",
        "                                          Resnet_transforms[x])\n",
        "                  for x in ['training', 'valid']}\n",
        "\n",
        "Resnet_train_loader = DataLoader(dataset=Resnet_datasets['training'], shuffle=True, batch_size=8, num_workers=4)\n",
        "Resnet_val_loader = DataLoader(dataset=Resnet_datasets['valid'], shuffle=True, batch_size=1, num_workers=4)"
      ],
      "metadata": {
        "id": "ZU5QI_X9-yhi"
      },
      "execution_count": 9,
      "outputs": []
    },
    {
      "cell_type": "code",
      "source": [
        "Resnet_datasets['valid'].class_to_idx\n",
        "idx2class = {v: k for k, v in Resnet_datasets['valid'].class_to_idx.items()}\n",
        "idx2class"
      ],
      "metadata": {
        "id": "bgFXS2aVIMIN",
        "colab": {
          "base_uri": "https://localhost:8080/"
        },
        "outputId": "4ec03596-cdd1-4514-a839-b1f2a3c0f7f7"
      },
      "execution_count": 10,
      "outputs": [
        {
          "output_type": "execute_result",
          "data": {
            "text/plain": [
              "{0: 'flip', 1: 'notflip'}"
            ]
          },
          "metadata": {},
          "execution_count": 10
        }
      ]
    },
    {
      "cell_type": "code",
      "source": [
        "#We will use resenet18 pretrained model\n",
        "\n",
        "# load pretrained model\n",
        "model_resnet = models.resnet18(pretrained=True)\n",
        "\n",
        "#Get last output feature before the classification layer\n",
        "num_ftrs = model_resnet.fc.in_features\n",
        "\n",
        "# Here the size of each output sample is set to 2.\n",
        "model_resnet.fc = nn.Linear(num_ftrs, 2)\n",
        "\n",
        "model_resnet = model_resnet.to(device)\n",
        "\n",
        "criterion = nn.CrossEntropyLoss()\n",
        "\n",
        "# Observe that all parameters are being optimized, use SGD ooptimizer\n",
        "optimizer = optim.SGD(model_resnet.parameters(), lr=0.001, momentum=0.9)\n",
        "\n",
        "# Decay LR by a factor of 0.1 every 7 epochs\n",
        "scheduler = lr_scheduler.StepLR(optimizer, step_size=7, gamma=0.1)"
      ],
      "metadata": {
        "id": "aLoddV5u_-dS",
        "colab": {
          "base_uri": "https://localhost:8080/"
        },
        "outputId": "949c722a-fe1f-4f0e-aa66-20a94f60c2f1"
      },
      "execution_count": 14,
      "outputs": [
        {
          "output_type": "stream",
          "name": "stderr",
          "text": [
            "Downloading: \"https://download.pytorch.org/models/resnet18-f37072fd.pth\" to /root/.cache/torch/hub/checkpoints/resnet18-f37072fd.pth\n",
            "100%|██████████| 44.7M/44.7M [00:00<00:00, 199MB/s]\n"
          ]
        }
      ]
    },
    {
      "cell_type": "code",
      "source": [
        "#Define the training class\n",
        "def train_model(model, criterion, optimizer, scheduler, num_epochs=25):\n",
        "    since = time.time()\n",
        "    metric = BinaryF1Score()\n",
        "\n",
        "\n",
        "    '''define 3 dictionaries which will store the accuracy/epoch,\n",
        "    F1_score/epochs and loss/epoch for both train and validation sets.'''\n",
        "\n",
        "    accuracy_stats = {\n",
        "        'train': [],\n",
        "        \"val\": []\n",
        "        }\n",
        "    F1score_stats = {\n",
        "        'train': [],\n",
        "        \"val\": []\n",
        "        }\n",
        "\n",
        "    loss_stats = {\n",
        "        'train': [],\n",
        "        \"val\": []\n",
        "        }\n",
        "\n",
        "    best_model_wts = copy.deepcopy(model.state_dict())\n",
        "    best_acc = 0.0\n",
        "\n",
        "    for epoch in range(num_epochs):\n",
        "        print('Epoch {}/{}'.format(epoch, num_epochs - 1))\n",
        "        print('-' * 10)\n",
        "\n",
        "        # Each epoch has a training and validation phase\n",
        "        for phase in ['train', 'val']:\n",
        "            if phase == 'train':\n",
        "                dataloaders=Resnet_train_loader\n",
        "                # dataset_sizes=train_size\n",
        "                dataset_sizes = len(Resnet_datasets['training'])\n",
        "                # print('datasizes:', dataset_sizes)\n",
        "                model.train()  # Set model to training mode\n",
        "            else:\n",
        "                dataloaders=Resnet_val_loader\n",
        "                # dataset_sizes=Resnet_val_size\n",
        "                dataset_sizes = len(Resnet_datasets['valid'])\n",
        "                # print('datasizes:', dataset_sizes)\n",
        "                model.eval()   # Set model to evaluate mode\n",
        "\n",
        "            running_loss = 0.0\n",
        "            running_corrects = 0\n",
        "            running_f1 = 0\n",
        "\n",
        "            # Iterate over data.\n",
        "            for inputs, labels in dataloaders:\n",
        "                inputs = inputs.to(device)\n",
        "                labels = labels.to(device)\n",
        "\n",
        "                # zero the parameter gradients\n",
        "                optimizer.zero_grad()\n",
        "\n",
        "                # forward\n",
        "                # track history if only in train\n",
        "                with torch.set_grad_enabled(phase == 'train'):\n",
        "                    outputs = model(inputs)\n",
        "                    _, preds = torch.max(outputs, 1)\n",
        "                    loss = criterion(outputs, labels)\n",
        "                    # print('loss:', loss)\n",
        "                    # print(labels.data)\n",
        "\n",
        "                    # running_f1 = binary_F1(preds, labels)\n",
        "\n",
        "                    # backward + optimize only if in training phase\n",
        "                    if phase == 'train':\n",
        "                        loss.backward()\n",
        "                        optimizer.step()\n",
        "\n",
        "                # statistics\n",
        "                running_loss += loss.item() * inputs.size(0)\n",
        "                # print('is:', inputs.size(0))\n",
        "                # print('rn loss:', running_loss)\n",
        "                running_corrects += torch.sum(preds == labels.data)\n",
        "                running_f1 += metric(preds.cpu(), labels.cpu().data)\n",
        "            if phase == 'train':\n",
        "                scheduler.step()\n",
        "            # print('running loss:', running_loss)\n",
        "            epoch_loss = running_loss / dataset_sizes\n",
        "            epoch_acc = running_corrects.double() / dataset_sizes\n",
        "            epoch_f1 = running_f1 / dataset_sizes\n",
        "\n",
        "            print('{} Loss: {:.4f} Acc: {:.4f} f1: {:.4f}'.format(\n",
        "                phase, epoch_loss, epoch_acc, epoch_f1))\n",
        "\n",
        "            if phase == 'train':\n",
        "              # print(epoch_acc.item())\n",
        "              loss_stats['train'].append(epoch_loss)\n",
        "              accuracy_stats['train'].append(epoch_acc.item())\n",
        "              F1score_stats['train'].append(epoch_f1.item())\n",
        "\n",
        "\n",
        "            # deep copy the model\n",
        "            if phase == 'val' and epoch_acc > best_acc:\n",
        "                best_acc = epoch_acc\n",
        "                best_model_wts = copy.deepcopy(model.state_dict())\n",
        "\n",
        "            if phase == 'val':\n",
        "              loss_stats['val'].append(epoch_loss)\n",
        "              accuracy_stats['val'].append(epoch_acc.item())\n",
        "              F1score_stats['val'].append(epoch_f1.item())\n",
        "\n",
        "\n",
        "        print()\n",
        "\n",
        "    time_elapsed = time.time() - since\n",
        "    print('Training complete in {:.0f}m {:.0f}s'.format(\n",
        "        time_elapsed // 60, time_elapsed % 60))\n",
        "    print('Best val Acc: {:4f}'.format(best_acc))\n",
        "\n",
        "    # load best model weights\n",
        "    model.load_state_dict(best_model_wts)\n",
        "    return model, loss_stats, accuracy_stats, F1score_stats"
      ],
      "metadata": {
        "id": "Ea9zcIKkiPNQ"
      },
      "execution_count": 15,
      "outputs": []
    },
    {
      "cell_type": "code",
      "source": [
        "model_resnet, loss_stats_resnet, accuracy_stats_resnet, F1score_stats_resnet= train_model(\n",
        "    model_resnet, criterion, optimizer, scheduler, num_epochs=20)"
      ],
      "metadata": {
        "colab": {
          "base_uri": "https://localhost:8080/"
        },
        "id": "2BhIi07KifUo",
        "outputId": "bea5bb12-f755-40d8-8252-def5220d3461"
      },
      "execution_count": 16,
      "outputs": [
        {
          "output_type": "stream",
          "name": "stdout",
          "text": [
            "Epoch 0/19\n",
            "----------\n",
            "train Loss: 0.5010 Acc: 0.7551 f1: 0.0920\n",
            "val Loss: 0.2233 Acc: 0.9208 f1: 0.4542\n",
            "\n",
            "Epoch 1/19\n",
            "----------\n",
            "train Loss: 0.3321 Acc: 0.8601 f1: 0.1065\n",
            "val Loss: 0.0963 Acc: 0.9625 f1: 0.5292\n",
            "\n",
            "Epoch 2/19\n",
            "----------\n",
            "train Loss: 0.2901 Acc: 0.8783 f1: 0.1095\n",
            "val Loss: 0.0499 Acc: 0.9833 f1: 0.5250\n",
            "\n",
            "Epoch 3/19\n",
            "----------\n",
            "train Loss: 0.2771 Acc: 0.8880 f1: 0.1101\n",
            "val Loss: 0.1173 Acc: 0.9708 f1: 0.5042\n",
            "\n",
            "Epoch 4/19\n",
            "----------\n",
            "train Loss: 0.2884 Acc: 0.8899 f1: 0.1106\n",
            "val Loss: 0.0807 Acc: 0.9708 f1: 0.5292\n",
            "\n",
            "Epoch 5/19\n",
            "----------\n",
            "train Loss: 0.2212 Acc: 0.9168 f1: 0.1138\n",
            "val Loss: 0.0270 Acc: 0.9875 f1: 0.5292\n",
            "\n",
            "Epoch 6/19\n",
            "----------\n",
            "train Loss: 0.2330 Acc: 0.9071 f1: 0.1118\n",
            "val Loss: 0.1188 Acc: 0.9542 f1: 0.5292\n",
            "\n",
            "Epoch 7/19\n",
            "----------\n",
            "train Loss: 0.1883 Acc: 0.9275 f1: 0.1157\n",
            "val Loss: 0.0441 Acc: 0.9833 f1: 0.5250\n",
            "\n",
            "Epoch 8/19\n",
            "----------\n",
            "train Loss: 0.1784 Acc: 0.9275 f1: 0.1149\n",
            "val Loss: 0.0443 Acc: 0.9792 f1: 0.5250\n",
            "\n",
            "Epoch 9/19\n",
            "----------\n",
            "train Loss: 0.1734 Acc: 0.9308 f1: 0.1154\n",
            "val Loss: 0.0337 Acc: 0.9875 f1: 0.5250\n",
            "\n",
            "Epoch 10/19\n",
            "----------\n",
            "train Loss: 0.1680 Acc: 0.9303 f1: 0.1157\n",
            "val Loss: 0.0348 Acc: 0.9917 f1: 0.5292\n",
            "\n",
            "Epoch 11/19\n",
            "----------\n",
            "train Loss: 0.1381 Acc: 0.9433 f1: 0.1172\n",
            "val Loss: 0.0298 Acc: 0.9875 f1: 0.5250\n",
            "\n",
            "Epoch 12/19\n",
            "----------\n",
            "train Loss: 0.1664 Acc: 0.9419 f1: 0.1172\n",
            "val Loss: 0.0298 Acc: 0.9917 f1: 0.5250\n",
            "\n",
            "Epoch 13/19\n",
            "----------\n",
            "train Loss: 0.1450 Acc: 0.9419 f1: 0.1169\n",
            "val Loss: 0.0223 Acc: 0.9917 f1: 0.5250\n",
            "\n",
            "Epoch 14/19\n",
            "----------\n",
            "train Loss: 0.1536 Acc: 0.9401 f1: 0.1164\n",
            "val Loss: 0.0275 Acc: 0.9917 f1: 0.5250\n",
            "\n",
            "Epoch 15/19\n",
            "----------\n",
            "train Loss: 0.1421 Acc: 0.9382 f1: 0.1166\n",
            "val Loss: 0.0257 Acc: 0.9917 f1: 0.5250\n",
            "\n",
            "Epoch 16/19\n",
            "----------\n",
            "train Loss: 0.1513 Acc: 0.9428 f1: 0.1167\n",
            "val Loss: 0.0260 Acc: 0.9917 f1: 0.5250\n",
            "\n",
            "Epoch 17/19\n",
            "----------\n",
            "train Loss: 0.1710 Acc: 0.9303 f1: 0.1152\n",
            "val Loss: 0.0280 Acc: 0.9917 f1: 0.5250\n",
            "\n",
            "Epoch 18/19\n",
            "----------\n",
            "train Loss: 0.1357 Acc: 0.9489 f1: 0.1178\n",
            "val Loss: 0.0255 Acc: 0.9917 f1: 0.5250\n",
            "\n",
            "Epoch 19/19\n",
            "----------\n",
            "train Loss: 0.1512 Acc: 0.9414 f1: 0.1168\n",
            "val Loss: 0.0226 Acc: 0.9917 f1: 0.5250\n",
            "\n",
            "Training complete in 30m 7s\n",
            "Best val Acc: 0.991667\n"
          ]
        }
      ]
    },
    {
      "cell_type": "code",
      "source": [
        "sns.set()\n",
        "train_val_acc_df = pd.DataFrame.from_dict(accuracy_stats_resnet).reset_index().melt(id_vars=['index']).rename(columns={\"index\":\"epochs\"})\n",
        "train_val_f1_df = pd.DataFrame.from_dict(F1score_stats_resnet).reset_index().melt(id_vars=['index']).rename(columns={\"index\":\"epochs\"})\n",
        "train_val_loss_df = pd.DataFrame.from_dict(loss_stats_resnet).reset_index().melt(id_vars=['index']).rename(columns={\"index\":\"epochs\"})\n",
        "fig, axes = plt.subplots(nrows=1, ncols=3, figsize=(18,5))\n",
        "sns.lineplot(data=train_val_acc_df, x = \"epochs\", y=\"value\", hue=\"variable\",  ax=axes[1]).set_title('Train-Val Accuracy/Epoch')\n",
        "sns.lineplot(data=train_val_f1_df, x = \"epochs\", y=\"value\", hue=\"variable\",  ax=axes[2]).set_title('Train-Val F1_Score/Epoch')\n",
        "sns.lineplot(data=train_val_loss_df, x = \"epochs\", y=\"value\", hue=\"variable\", ax=axes[0]).set_title('Train-Val Loss/Epoch')\n",
        "fig.suptitle('Resnet model', fontsize=16)"
      ],
      "metadata": {
        "id": "AjJ5Cvj-GCCx",
        "colab": {
          "base_uri": "https://localhost:8080/",
          "height": 481
        },
        "outputId": "573d7ee5-2cde-450a-9d93-93a6cdaf91e8"
      },
      "execution_count": 17,
      "outputs": [
        {
          "output_type": "execute_result",
          "data": {
            "text/plain": [
              "Text(0.5, 0.98, 'Resnet model')"
            ]
          },
          "metadata": {},
          "execution_count": 17
        },
        {
          "output_type": "display_data",
          "data": {
            "text/plain": [
              "<Figure size 1800x500 with 3 Axes>"
            ],
            "image/png": "[encoded data removed]"
          },
          "metadata": {}
        }
      ]
    },
    {
      "cell_type": "code",
      "source": [
        "#save the model\n",
        "torch.save(model_resnet.state_dict(), \"/content/drive/MyDrive/images/resnet_model.ckpt\")"
      ],
      "metadata": {
        "id": "vYf14E8KFrcm"
      },
      "execution_count": 18,
      "outputs": []
    },
    {
      "cell_type": "code",
      "source": [
        "#This function will be used for all models for testing\n",
        "def valid_batch_loop(model_test,validloader):\n",
        "\n",
        "        valid_loss = 0.0\n",
        "        valid_acc = 0.0\n",
        "        final_y_pred_list=[]\n",
        "        final_y_true_list=[]\n",
        "        for images,labels in tqdm(validloader):\n",
        "\n",
        "            # move the data to CPU\n",
        "            images = images.to(device)\n",
        "            labels = labels.to(device)\n",
        "            logits = model_test(images)\n",
        "            acc,y_pred_list,y_true_list=binary_acc_test(logits,labels)\n",
        "            final_y_pred_list.extend(y_pred_list)\n",
        "            final_y_true_list.extend(y_true_list)\n",
        "            valid_acc = valid_acc + acc\n",
        "\n",
        "        return valid_acc / len(validloader),final_y_pred_list,final_y_true_list"
      ],
      "metadata": {
        "id": "EkKn61LaF3_1"
      },
      "execution_count": 19,
      "outputs": []
    },
    {
      "cell_type": "code",
      "source": [
        "#This function calculate the accuracy and 2 lists, one of predictions and the other for true labels for each input.\n",
        "def binary_acc_test(y_pred, y_test):\n",
        "    y_pred_list=[]\n",
        "    y_true_list=[]\n",
        "    y_pred_tag = torch.log_softmax(y_pred, dim = 1)\n",
        "    _, y_pred_tags = torch.max(y_pred_tag, dim = 1)\n",
        "    correct_results_sum = (y_pred_tags == y_test).sum().float()\n",
        "    y_pred_list.append(y_pred_tags.cpu().numpy())\n",
        "    y_true_list.append(y_test.cpu().numpy())\n",
        "    acc = correct_results_sum/y_test.shape[0]\n",
        "    acc = torch.round(acc * 100)\n",
        "    return acc,y_pred_list,y_true_list"
      ],
      "metadata": {
        "id": "eroYqooPF7IZ"
      },
      "execution_count": 20,
      "outputs": []
    },
    {
      "cell_type": "code",
      "source": [
        "#load the best model to our device\n",
        "resnet_model = models.resnet18(pretrained=True)\n",
        "num_ftrs = resnet_model.fc.in_features\n",
        "resnet_model.fc = nn.Linear(num_ftrs, 2)\n",
        "resnet_model = resnet_model.to(device)\n",
        "# resnet_model = model_resnet().to(device)\n",
        "resnet_model.load_state_dict(torch.load('/content/drive/MyDrive/images/resnet_model.ckpt'))"
      ],
      "metadata": {
        "id": "qqBhrjARF-gw",
        "colab": {
          "base_uri": "https://localhost:8080/"
        },
        "outputId": "875d8b7a-8241-457d-f54a-a5d51ee38d9d"
      },
      "execution_count": 23,
      "outputs": [
        {
          "output_type": "execute_result",
          "data": {
            "text/plain": [
              "<All keys matched successfully>"
            ]
          },
          "metadata": {},
          "execution_count": 23
        }
      ]
    },
    {
      "cell_type": "code",
      "source": [
        "#define test dataset and test dataloader\n",
        "resnet_test_dataset = datasets.ImageFolder(root='/content/drive/MyDrive/images/testing/', transform=Resnet_transforms['valid'])\n",
        "resnet_test_loader = DataLoader(dataset=resnet_test_dataset, shuffle=True, batch_size=1, num_workers=4)"
      ],
      "metadata": {
        "id": "JmbTs4ASGpKN"
      },
      "execution_count": 24,
      "outputs": []
    },
    {
      "cell_type": "code",
      "source": [
        "#define the eval mode\n",
        "resnet_model.eval()\n",
        "#Check the test accuracy\n",
        "avg_test_acc_resnet,final_y_pred_list_resnet,final_y_true_list_resnet = valid_batch_loop(resnet_model,resnet_test_loader)\n",
        "print(\"Test Accuracy of Resnet: {}\".format(avg_test_acc_resnet))"
      ],
      "metadata": {
        "id": "xzVxtIh3HFII",
        "colab": {
          "base_uri": "https://localhost:8080/",
          "height": 67,
          "referenced_widgets": [
            "599ecab79701440e8203023fd5d5f27d",
            "f0d57cbadcfe4d128949199804645e60",
            "5915b2f29e6d4c50b4d449972e06719f",
            "d438a68e7fbb4422abf13a59e2150cc7",
            "f8d0002a8d704b93aea0172812c732bd",
            "69ce28a569ce4aa883261954981b2801",
            "0183880aa5324117a530dda984aed07f",
            "8219171eaff0442bb19fde25f7b2ff2a",
            "0670304e00b84dcea4cfdc87b038ba46",
            "0b393e3745d54815a61cb4185b2a9100",
            "59d040d6055b49929e376544b6381664"
          ]
        },
        "outputId": "a96ed9e0-0cdf-45a0-c2da-795abd81aa6b"
      },
      "execution_count": 25,
      "outputs": [
        {
          "output_type": "display_data",
          "data": {
            "text/plain": [
              "  0%|          | 0/597 [00:00<?, ?it/s]"
            ],
            "application/vnd.jupyter.widget-view+json": {
              "version_major": 2,
              "version_minor": 0,
              "model_id": "599ecab79701440e8203023fd5d5f27d"
            }
          },
          "metadata": {}
        },
        {
          "output_type": "stream",
          "name": "stdout",
          "text": [
            "Test Accuracy of Resnet: 99.1624755859375\n"
          ]
        }
      ]
    },
    {
      "cell_type": "code",
      "source": [
        "report_resnet = classification_report([i[0] for i in final_y_true_list_resnet], [i[0] for i in final_y_pred_list_resnet],digits=4)"
      ],
      "metadata": {
        "id": "XtRQldjaHYgN"
      },
      "execution_count": 26,
      "outputs": []
    },
    {
      "cell_type": "code",
      "source": [
        "print('\\033[1;32m Classification report of Resnet model on test dataset \\n')\n",
        "\n",
        "print('\\033[1;34m', report_resnet)"
      ],
      "metadata": {
        "id": "kLorc3bjHkUA",
        "colab": {
          "base_uri": "https://localhost:8080/"
        },
        "outputId": "b20ddba0-515a-4140-fab5-baf939859f96"
      },
      "execution_count": 27,
      "outputs": [
        {
          "output_type": "stream",
          "name": "stdout",
          "text": [
            "\u001b[1;32m Classification report of Resnet model on test dataset \n",
            "\n",
            "\u001b[1;34m               precision    recall  f1-score   support\n",
            "\n",
            "           0     1.0000    0.9828    0.9913       290\n",
            "           1     0.9840    1.0000    0.9919       307\n",
            "\n",
            "    accuracy                         0.9916       597\n",
            "   macro avg     0.9920    0.9914    0.9916       597\n",
            "weighted avg     0.9918    0.9916    0.9916       597\n",
            "\n"
          ]
        }
      ]
    },
    {
      "cell_type": "code",
      "source": [
        "confusion_matrix_df_resnet = pd.DataFrame(confusion_matrix(final_y_true_list_resnet, final_y_pred_list_resnet)).rename(columns=idx2class, index=idx2class)\n",
        "fig, ax = plt.subplots(figsize=(7,5))\n",
        "sns.heatmap(confusion_matrix_df_resnet, annot=True, ax=ax, fmt='g')\n",
        "fig.suptitle('Confusion matrix of Resnet model')"
      ],
      "metadata": {
        "id": "y633CaCcH2fA",
        "colab": {
          "base_uri": "https://localhost:8080/",
          "height": 518
        },
        "outputId": "ee8b573e-9aac-495b-82a8-1658bb3f00eb"
      },
      "execution_count": 28,
      "outputs": [
        {
          "output_type": "execute_result",
          "data": {
            "text/plain": [
              "Text(0.5, 0.98, 'Confusion matrix of Resnet model')"
            ]
          },
          "metadata": {},
          "execution_count": 28
        },
        {
          "output_type": "display_data",
          "data": {
            "text/plain": [
              "<Figure size 700x500 with 2 Axes>"
            ],
            "image/png": "[encoded data removed]"
          },
          "metadata": {}
        }
      ]
    },
    {
      "cell_type": "markdown",
      "source": [
        "# Densenet"
      ],
      "metadata": {
        "id": "A3R3u2WdP-UW"
      }
    },
    {
      "cell_type": "code",
      "source": [
        "#DenseNet transformer\n",
        "Densenet_transforms = {\n",
        "    'training': transforms.Compose([\n",
        "        transforms.CenterCrop(1080),\n",
        "        transforms.RandomResizedCrop(224),\n",
        "        transforms.RandomHorizontalFlip(),\n",
        "        transforms.ToTensor(),\n",
        "        transforms.Normalize([0.485, 0.456, 0.406], [0.229, 0.224, 0.225])\n",
        "    ]),\n",
        "    'valid': transforms.Compose([\n",
        "        transforms.Resize(256),\n",
        "        transforms.CenterCrop(224),\n",
        "        transforms.ToTensor(),\n",
        "        transforms.Normalize([0.485, 0.456, 0.406], [0.229, 0.224, 0.225])\n",
        "    ]),\n",
        "}"
      ],
      "metadata": {
        "id": "DmSa3IN6ITfq"
      },
      "execution_count": 29,
      "outputs": []
    },
    {
      "cell_type": "code",
      "source": [
        "# For Densenet\n",
        "Densenet_datasets = {x: datasets.ImageFolder(os.path.join(data_dir, x),\n",
        "                                          Densenet_transforms[x])\n",
        "                  for x in ['training', 'valid']}\n",
        "\n",
        "Densenet_train_loader = DataLoader(dataset=Densenet_datasets['training'], shuffle=True, batch_size=8, num_workers=4)\n",
        "Densenet_val_loader = DataLoader(dataset=Densenet_datasets['valid'], shuffle=True, batch_size=1, num_workers=4)"
      ],
      "metadata": {
        "id": "tk-ZjSsfQEUW"
      },
      "execution_count": 30,
      "outputs": []
    },
    {
      "cell_type": "code",
      "source": [
        "#Load the pretrained densenet121 model\n",
        "model_densenet = models.densenet121(pretrained=True)\n",
        "\n",
        "#Get last output feature before the classification layer\n",
        "num_ftrs = model_densenet.classifier.in_features\n",
        "\n",
        "# Here the size of each output sample is set to 2.\n",
        "model_densenet.classifier = nn.Linear(num_ftrs, 2)\n",
        "\n",
        "model_densenet = model_densenet.to(device)\n",
        "\n",
        "criterion = nn.CrossEntropyLoss()\n",
        "\n",
        "# Observe that all parameters are being optimized, use SGD ooptimizer\n",
        "optimizer = optim.SGD(model_densenet.parameters(), lr=0.001, momentum=0.9)\n",
        "\n",
        "# Decay LR by a factor of 0.1 every 7 epochs\n",
        "scheduler = lr_scheduler.StepLR(optimizer, step_size=7, gamma=0.1)"
      ],
      "metadata": {
        "colab": {
          "base_uri": "https://localhost:8080/"
        },
        "id": "TkxR4seLQJzM",
        "outputId": "cdd0a865-2353-43ca-8363-1cf1e7ba8be9"
      },
      "execution_count": 31,
      "outputs": [
        {
          "output_type": "stream",
          "name": "stderr",
          "text": [
            "Downloading: \"https://download.pytorch.org/models/densenet121-a639ec97.pth\" to /root/.cache/torch/hub/checkpoints/densenet121-a639ec97.pth\n",
            "100%|██████████| 30.8M/30.8M [00:00<00:00, 163MB/s] \n"
          ]
        }
      ]
    },
    {
      "cell_type": "code",
      "source": [
        "model_densenet, loss_stats_densenet, accuracy_stats_densenet, F1score_stats_densenet= train_model(\n",
        "    model_densenet, criterion, optimizer, scheduler, num_epochs=20)"
      ],
      "metadata": {
        "colab": {
          "base_uri": "https://localhost:8080/"
        },
        "id": "Pt4Mfnw6-kRS",
        "outputId": "268221df-9a59-41aa-b93d-1663151f9924"
      },
      "execution_count": 32,
      "outputs": [
        {
          "output_type": "stream",
          "name": "stdout",
          "text": [
            "Epoch 0/19\n",
            "----------\n",
            "train Loss: 0.4776 Acc: 0.7658 f1: 0.0937\n",
            "val Loss: 0.1224 Acc: 0.9625 f1: 0.5292\n",
            "\n",
            "Epoch 1/19\n",
            "----------\n",
            "train Loss: 0.3198 Acc: 0.8606 f1: 0.1071\n",
            "val Loss: 0.0710 Acc: 0.9708 f1: 0.5167\n",
            "\n",
            "Epoch 2/19\n",
            "----------\n",
            "train Loss: 0.3222 Acc: 0.8773 f1: 0.1081\n",
            "val Loss: 0.2050 Acc: 0.9375 f1: 0.4667\n",
            "\n",
            "Epoch 3/19\n",
            "----------\n",
            "train Loss: 0.2471 Acc: 0.9075 f1: 0.1125\n",
            "val Loss: 0.0685 Acc: 0.9833 f1: 0.5292\n",
            "\n",
            "Epoch 4/19\n",
            "----------\n",
            "train Loss: 0.2795 Acc: 0.8787 f1: 0.1085\n",
            "val Loss: 0.0951 Acc: 0.9708 f1: 0.5292\n",
            "\n",
            "Epoch 5/19\n",
            "----------\n",
            "train Loss: 0.2056 Acc: 0.9099 f1: 0.1129\n",
            "val Loss: 0.0582 Acc: 0.9792 f1: 0.5125\n",
            "\n",
            "Epoch 6/19\n",
            "----------\n",
            "train Loss: 0.1980 Acc: 0.9196 f1: 0.1143\n",
            "val Loss: 0.0353 Acc: 0.9833 f1: 0.5250\n",
            "\n",
            "Epoch 7/19\n",
            "----------\n",
            "train Loss: 0.1554 Acc: 0.9382 f1: 0.1164\n",
            "val Loss: 0.0303 Acc: 0.9875 f1: 0.5250\n",
            "\n",
            "Epoch 8/19\n",
            "----------\n",
            "train Loss: 0.1322 Acc: 0.9498 f1: 0.1180\n",
            "val Loss: 0.0262 Acc: 0.9875 f1: 0.5250\n",
            "\n",
            "Epoch 9/19\n",
            "----------\n",
            "train Loss: 0.1549 Acc: 0.9391 f1: 0.1172\n",
            "val Loss: 0.0279 Acc: 0.9875 f1: 0.5250\n",
            "\n",
            "Epoch 10/19\n",
            "----------\n",
            "train Loss: 0.1420 Acc: 0.9503 f1: 0.1182\n",
            "val Loss: 0.0234 Acc: 0.9875 f1: 0.5250\n",
            "\n",
            "Epoch 11/19\n",
            "----------\n",
            "train Loss: 0.1484 Acc: 0.9484 f1: 0.1175\n",
            "val Loss: 0.0265 Acc: 0.9875 f1: 0.5250\n",
            "\n",
            "Epoch 12/19\n",
            "----------\n",
            "train Loss: 0.1126 Acc: 0.9545 f1: 0.1190\n",
            "val Loss: 0.0254 Acc: 0.9875 f1: 0.5250\n",
            "\n",
            "Epoch 13/19\n",
            "----------\n",
            "train Loss: 0.1217 Acc: 0.9545 f1: 0.1190\n",
            "val Loss: 0.0220 Acc: 0.9917 f1: 0.5250\n",
            "\n",
            "Epoch 14/19\n",
            "----------\n",
            "train Loss: 0.1261 Acc: 0.9549 f1: 0.1183\n",
            "val Loss: 0.0250 Acc: 0.9875 f1: 0.5250\n",
            "\n",
            "Epoch 15/19\n",
            "----------\n",
            "train Loss: 0.1390 Acc: 0.9489 f1: 0.1175\n",
            "val Loss: 0.0242 Acc: 0.9875 f1: 0.5250\n",
            "\n",
            "Epoch 16/19\n",
            "----------\n",
            "train Loss: 0.1125 Acc: 0.9600 f1: 0.1190\n",
            "val Loss: 0.0242 Acc: 0.9875 f1: 0.5250\n",
            "\n",
            "Epoch 17/19\n",
            "----------\n",
            "train Loss: 0.1141 Acc: 0.9605 f1: 0.1194\n",
            "val Loss: 0.0250 Acc: 0.9875 f1: 0.5250\n",
            "\n",
            "Epoch 18/19\n",
            "----------\n",
            "train Loss: 0.1201 Acc: 0.9559 f1: 0.1190\n",
            "val Loss: 0.0226 Acc: 0.9875 f1: 0.5250\n",
            "\n",
            "Epoch 19/19\n",
            "----------\n",
            "train Loss: 0.1162 Acc: 0.9619 f1: 0.1188\n",
            "val Loss: 0.0296 Acc: 0.9875 f1: 0.5250\n",
            "\n",
            "Training complete in 33m 4s\n",
            "Best val Acc: 0.991667\n"
          ]
        }
      ]
    },
    {
      "cell_type": "code",
      "source": [
        "sns.set()\n",
        "train_val_acc_densenet_df = pd.DataFrame.from_dict(accuracy_stats_densenet).reset_index().melt(id_vars=['index']).rename(columns={\"index\":\"epochs\"})\n",
        "train_val_f1_densenet_df = pd.DataFrame.from_dict(F1score_stats_densenet).reset_index().melt(id_vars=['index']).rename(columns={\"index\":\"epochs\"})\n",
        "train_val_loss_densenet_df = pd.DataFrame.from_dict(loss_stats_densenet).reset_index().melt(id_vars=['index']).rename(columns={\"index\":\"epochs\"})\n",
        "fig, axes = plt.subplots(nrows=1, ncols=3, figsize=(18,5))\n",
        "sns.lineplot(data=train_val_acc_densenet_df, x = \"epochs\", y=\"value\", hue=\"variable\",  ax=axes[1]).set_title('Train-Val Accuracy/Epoch')\n",
        "sns.lineplot(data=train_val_f1_densenet_df, x = \"epochs\", y=\"value\", hue=\"variable\",  ax=axes[2]).set_title('Train-Val F1_Score/Epoch')\n",
        "sns.lineplot(data=train_val_loss_densenet_df, x = \"epochs\", y=\"value\", hue=\"variable\", ax=axes[0]).set_title('Train-Val Loss/Epoch')\n",
        "fig.suptitle('Densenet model', fontsize=16)"
      ],
      "metadata": {
        "colab": {
          "base_uri": "https://localhost:8080/",
          "height": 481
        },
        "id": "lrGppjvwTHU9",
        "outputId": "4946fa2f-6ff5-4da1-b498-c97684169050"
      },
      "execution_count": 33,
      "outputs": [
        {
          "output_type": "execute_result",
          "data": {
            "text/plain": [
              "Text(0.5, 0.98, 'Densenet model')"
            ]
          },
          "metadata": {},
          "execution_count": 33
        },
        {
          "output_type": "display_data",
          "data": {
            "text/plain": [
              "<Figure size 1800x500 with 3 Axes>"
            ],
            "image/png": "[encoded data removed]"
          },
          "metadata": {}
        }
      ]
    },
    {
      "cell_type": "code",
      "source": [
        "#save the model\n",
        "torch.save(model_densenet.state_dict(), \"/content/drive/MyDrive/images/densenet_model.ckpt\")"
      ],
      "metadata": {
        "id": "BzpdrBbRTqwS"
      },
      "execution_count": 34,
      "outputs": []
    },
    {
      "cell_type": "code",
      "source": [
        "#load the best model to our device\n",
        "densenet_model = models.densenet121(pretrained=True)\n",
        "num_ftrs = densenet_model.classifier.in_features\n",
        "densenet_model.classifier = nn.Linear(num_ftrs, 2)\n",
        "model_densenet = densenet_model.to(device)\n",
        "#load the best model to use it for testing\n",
        "densenet_model.load_state_dict(torch.load('/content/drive/MyDrive/images/densenet_model.ckpt'))"
      ],
      "metadata": {
        "colab": {
          "base_uri": "https://localhost:8080/"
        },
        "id": "7FtqA0DiT6NY",
        "outputId": "c5734010-8f7d-4b2d-a64e-81c033b14e9a"
      },
      "execution_count": 35,
      "outputs": [
        {
          "output_type": "execute_result",
          "data": {
            "text/plain": [
              "<All keys matched successfully>"
            ]
          },
          "metadata": {},
          "execution_count": 35
        }
      ]
    },
    {
      "cell_type": "code",
      "source": [
        "#define test dataset and test dataloader\n",
        "densenet_test_dataset = datasets.ImageFolder(root='/content/drive/MyDrive/images/testing/', transform=Densenet_transforms['valid'])\n",
        "densenet_test_loader = DataLoader(dataset=densenet_test_dataset, shuffle=True, batch_size=1, num_workers=4)"
      ],
      "metadata": {
        "id": "hIDolW5fUHmp"
      },
      "execution_count": 36,
      "outputs": []
    },
    {
      "cell_type": "code",
      "source": [
        "#define the eval mode\n",
        "densenet_model.eval()\n",
        "#Check the test accuracy\n",
        "avg_test_acc_densenet,final_y_pred_list_densenet,final_y_true_list_densenet = valid_batch_loop(densenet_model,densenet_test_loader)\n",
        "print(\"Test Accuracy of Densenet: {}\".format(avg_test_acc_densenet))"
      ],
      "metadata": {
        "colab": {
          "base_uri": "https://localhost:8080/",
          "height": 67,
          "referenced_widgets": [
            "87623a490f39433d991a210118ce7591",
            "1803fd274d8841d890ef59546a18020b",
            "86a2b1fbc3f147afb01275c8bf07dcd6",
            "96c179592b9644f3b1c2aa95e63a4117",
            "0a1b2e1c26974c3ebbbce7f98acd1737",
            "7a37583546bb4a779898bc919c9c4caf",
            "4c33aae6355c4a54a7ddc6bd2b199614",
            "4ef70827d81b4c138a3ddccb6bcc63b6",
            "52c6a4b2b6024c0ca07fe68a917629bd",
            "7f82b731cc6a48b3add1cc9a0d7916cb",
            "fcbca3081f6c48929468c2cc39294c94"
          ]
        },
        "id": "dT7NoJzcUf37",
        "outputId": "5167e19f-9695-4d1c-ecd3-874d4f4ed5e3"
      },
      "execution_count": 37,
      "outputs": [
        {
          "output_type": "display_data",
          "data": {
            "text/plain": [
              "  0%|          | 0/597 [00:00<?, ?it/s]"
            ],
            "application/vnd.jupyter.widget-view+json": {
              "version_major": 2,
              "version_minor": 0,
              "model_id": "87623a490f39433d991a210118ce7591"
            }
          },
          "metadata": {}
        },
        {
          "output_type": "stream",
          "name": "stdout",
          "text": [
            "Test Accuracy of Densenet: 99.8324966430664\n"
          ]
        }
      ]
    },
    {
      "cell_type": "code",
      "source": [
        "report_densenet = classification_report([i[0] for i in final_y_true_list_densenet], [i[0] for i in final_y_pred_list_densenet],digits=4)"
      ],
      "metadata": {
        "id": "vugT4qWzVHrm"
      },
      "execution_count": 38,
      "outputs": []
    },
    {
      "cell_type": "code",
      "source": [
        "print('\\033[1;32m Classification report of Densenet model on test dataset \\n')\n",
        "print('\\033[1;34m', report_densenet)"
      ],
      "metadata": {
        "colab": {
          "base_uri": "https://localhost:8080/"
        },
        "id": "a5apjezbVPM0",
        "outputId": "e79176eb-b6db-4753-df0d-a4aad3f35af0"
      },
      "execution_count": 39,
      "outputs": [
        {
          "output_type": "stream",
          "name": "stdout",
          "text": [
            "\u001b[1;32m Classification report of Densenet model on test dataset \n",
            "\n",
            "\u001b[1;34m               precision    recall  f1-score   support\n",
            "\n",
            "           0     1.0000    0.9966    0.9983       290\n",
            "           1     0.9968    1.0000    0.9984       307\n",
            "\n",
            "    accuracy                         0.9983       597\n",
            "   macro avg     0.9984    0.9983    0.9983       597\n",
            "weighted avg     0.9983    0.9983    0.9983       597\n",
            "\n"
          ]
        }
      ]
    },
    {
      "cell_type": "code",
      "source": [
        "confusion_matrix_df_densenet = pd.DataFrame(confusion_matrix(final_y_true_list_densenet, final_y_pred_list_densenet)).rename(columns=idx2class, index=idx2class)\n",
        "# fig, ax = plt.subplots(figsize=(7,5))\n",
        "# sns.heatmap(confusion_matrix_df_densenet, annot=True, ax=ax, fmt='g')\n",
        "# fig.suptitle('Confusion matrix of Densenet model')"
      ],
      "metadata": {
        "id": "p3ZpmycdVbGw"
      },
      "execution_count": 40,
      "outputs": []
    },
    {
      "cell_type": "markdown",
      "source": [
        "# Results comparison"
      ],
      "metadata": {
        "id": "eB6zEJFCXbWQ"
      }
    },
    {
      "cell_type": "code",
      "source": [
        "fig, axes = plt.subplots(nrows=1, ncols=2, figsize=(15,5))\n",
        "sns.heatmap(data=confusion_matrix_df_resnet, annot=True, fmt='g', ax=axes[0]).set_title('Confusion matrix of Resnet model')\n",
        "sns.heatmap(data=confusion_matrix_df_densenet, annot=True, fmt='g', ax=axes[1]).set_title('Confusion matrix of Densenet model')\n",
        "fig.suptitle('Confusion matrix comparision', fontsize=16)\n",
        "\n",
        "print(\"\\t\\tComparision between Resnet and with Densenet models \\n\")\n",
        "print('-'*80)\n",
        "print('   model              |   Accuracy    |   Precision  |  recall   |   F1-score')\n",
        "print('-'*80)\n",
        "print(\"   Resnet18           |    99.16 %    |    99.18 %   |   99.16 % |   99.16 % \")\n",
        "print(\"\\033[1;34m   Densnet121         |    99.83 %    |    99.83 %   |   99.83 % |   99.83 % \\n\\n\\n\")"
      ],
      "metadata": {
        "colab": {
          "base_uri": "https://localhost:8080/",
          "height": 681
        },
        "id": "oJVx5czTVrDT",
        "outputId": "6e3dfa38-e86f-442c-fab2-5142fdf0fa3d"
      },
      "execution_count": 50,
      "outputs": [
        {
          "output_type": "stream",
          "name": "stdout",
          "text": [
            "\t\tComparision between Resnet and with Densenet models \n",
            "\n",
            "--------------------------------------------------------------------------------\n",
            "   model              |   Accuracy    |   Precision  |  recall   |   F1-score\n",
            "--------------------------------------------------------------------------------\n",
            "   Resnet18           |    99.16 %    |    99.18 %   |   99.16 % |   99.16 % \n",
            "\u001b[1;34m   Densnet121         |    99.83 %    |    99.83 %   |   99.83 % |   99.83 % \n",
            "\n",
            "\n",
            "\n"
          ]
        },
        {
          "output_type": "display_data",
          "data": {
            "text/plain": [
              "<Figure size 1500x500 with 4 Axes>"
            ],
            "image/png": "[encoded data removed]"
          },
          "metadata": {}
        }
      ]
    },
    {
      "cell_type": "markdown",
      "source": [
        "# Conclusion\n",
        "\n",
        "In this second solution, I use two pretrained models: 1. Resnet18 and 2. Densenet121. Results demonstrate that the Densenet121 model has produced a better f1-score 99.83 % than Resnet (99.16 %). Comparing confusion metrics of both models, the Densnet model has only one false positive and zero false negative. This shows that the Densenet model outperforms for page flip prediction."
      ],
      "metadata": {
        "id": "VELrpA9dXoSH"
      }
    }
  ]
}